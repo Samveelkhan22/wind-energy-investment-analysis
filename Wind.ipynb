{
  "nbformat": 4,
  "nbformat_minor": 0,
  "metadata": {
    "colab": {
      "provenance": []
    },
    "kernelspec": {
      "name": "python3",
      "display_name": "Python 3"
    },
    "language_info": {
      "name": "python"
    }
  },
  "cells": [
    {
      "cell_type": "markdown",
      "source": [
        "# Importing Libararies"
      ],
      "metadata": {
        "id": "rZwu3GY0N1i8"
      }
    },
    {
      "cell_type": "code",
      "source": [
        "import numpy as np\n",
        "import pandas as pd\n",
        "import matplotlib.pyplot as plt\n",
        "import seaborn as sns\n",
        "import warnings as w\n",
        "w.filterwarnings(\"ignore\")\n",
        "\n"
      ],
      "metadata": {
        "id": "4A14W036udrr"
      },
      "execution_count": null,
      "outputs": []
    },
    {
      "cell_type": "markdown",
      "source": [
        "# Loading and Cleaning Datasets"
      ],
      "metadata": {
        "id": "y-QAcZY_OS8Y"
      }
    },
    {
      "cell_type": "code",
      "source": [
        "partners = pd.read_csv(\"Wind_Energy_Investment_Partners.csv\")\n",
        "turbines = pd.read_csv(\"wind_turbine_20220114.csv\", encoding=\"latin1\")"
      ],
      "metadata": {
        "id": "1yPHyCPJufRw"
      },
      "execution_count": null,
      "outputs": []
    },
    {
      "cell_type": "code",
      "source": [
        "partners.head()"
      ],
      "metadata": {
        "colab": {
          "base_uri": "https://localhost:8080/",
          "height": 310
        },
        "id": "RP4nIpvvuxLQ",
        "outputId": "c7694bfe-d19e-4698-ed25-db1457409241"
      },
      "execution_count": null,
      "outputs": [
        {
          "output_type": "execute_result",
          "data": {
            "text/plain": [
              "           Partner Type                                        Description  \\\n",
              "0     Utility Companies  Established energy providers looking to expand...   \n",
              "1  Private Equity Firms  Investment firms specializing in energy or inf...   \n",
              "2   Government Agencies  Federal, state or local renewable energy initi...   \n",
              "3    Green Energy Funds  Specialized investment vehicles for renewable ...   \n",
              "4  Community Investment     Local community ownership models, cooperatives   \n",
              "\n",
              "    Typical Investment Range  \\\n",
              "0                $10M-$100M+   \n",
              "1                  $5M-$500M   \n",
              "2  $500K-$50M (grants/loans)   \n",
              "3                  $1M-$100M   \n",
              "4                 $100K-$10M   \n",
              "\n",
              "                                          Advantages  \\\n",
              "0  Experience in energy sector, existing infrastr...   \n",
              "1     Large capital availability, industry expertise   \n",
              "2            Favorable terms, tax incentives, grants   \n",
              "3  Aligned mission, experienced in renewable fina...   \n",
              "4   Local support, reduced NIMBYism, shared benefits   \n",
              "\n",
              "                                       Disadvantages  Column 6  \n",
              "0     May have competing interests with fossil fuels       NaN  \n",
              "1  High return expectations, less patience for lo...       NaN  \n",
              "2  Bureaucratic process, funding dependent on pol...       NaN  \n",
              "3  May have specific project requirements or limi...       NaN  \n",
              "4      Slower decision making, smaller capital pools       NaN  "
            ],
            "text/html": [
              "\n",
              "  <div id=\"df-29073b0f-3d9d-440e-a717-0574c5e402b5\" class=\"colab-df-container\">\n",
              "    <div>\n",
              "<style scoped>\n",
              "    .dataframe tbody tr th:only-of-type {\n",
              "        vertical-align: middle;\n",
              "    }\n",
              "\n",
              "    .dataframe tbody tr th {\n",
              "        vertical-align: top;\n",
              "    }\n",
              "\n",
              "    .dataframe thead th {\n",
              "        text-align: right;\n",
              "    }\n",
              "</style>\n",
              "<table border=\"1\" class=\"dataframe\">\n",
              "  <thead>\n",
              "    <tr style=\"text-align: right;\">\n",
              "      <th></th>\n",
              "      <th>Partner Type</th>\n",
              "      <th>Description</th>\n",
              "      <th>Typical Investment Range</th>\n",
              "      <th>Advantages</th>\n",
              "      <th>Disadvantages</th>\n",
              "      <th>Column 6</th>\n",
              "    </tr>\n",
              "  </thead>\n",
              "  <tbody>\n",
              "    <tr>\n",
              "      <th>0</th>\n",
              "      <td>Utility Companies</td>\n",
              "      <td>Established energy providers looking to expand...</td>\n",
              "      <td>$10M-$100M+</td>\n",
              "      <td>Experience in energy sector, existing infrastr...</td>\n",
              "      <td>May have competing interests with fossil fuels</td>\n",
              "      <td>NaN</td>\n",
              "    </tr>\n",
              "    <tr>\n",
              "      <th>1</th>\n",
              "      <td>Private Equity Firms</td>\n",
              "      <td>Investment firms specializing in energy or inf...</td>\n",
              "      <td>$5M-$500M</td>\n",
              "      <td>Large capital availability, industry expertise</td>\n",
              "      <td>High return expectations, less patience for lo...</td>\n",
              "      <td>NaN</td>\n",
              "    </tr>\n",
              "    <tr>\n",
              "      <th>2</th>\n",
              "      <td>Government Agencies</td>\n",
              "      <td>Federal, state or local renewable energy initi...</td>\n",
              "      <td>$500K-$50M (grants/loans)</td>\n",
              "      <td>Favorable terms, tax incentives, grants</td>\n",
              "      <td>Bureaucratic process, funding dependent on pol...</td>\n",
              "      <td>NaN</td>\n",
              "    </tr>\n",
              "    <tr>\n",
              "      <th>3</th>\n",
              "      <td>Green Energy Funds</td>\n",
              "      <td>Specialized investment vehicles for renewable ...</td>\n",
              "      <td>$1M-$100M</td>\n",
              "      <td>Aligned mission, experienced in renewable fina...</td>\n",
              "      <td>May have specific project requirements or limi...</td>\n",
              "      <td>NaN</td>\n",
              "    </tr>\n",
              "    <tr>\n",
              "      <th>4</th>\n",
              "      <td>Community Investment</td>\n",
              "      <td>Local community ownership models, cooperatives</td>\n",
              "      <td>$100K-$10M</td>\n",
              "      <td>Local support, reduced NIMBYism, shared benefits</td>\n",
              "      <td>Slower decision making, smaller capital pools</td>\n",
              "      <td>NaN</td>\n",
              "    </tr>\n",
              "  </tbody>\n",
              "</table>\n",
              "</div>\n",
              "    <div class=\"colab-df-buttons\">\n",
              "\n",
              "  <div class=\"colab-df-container\">\n",
              "    <button class=\"colab-df-convert\" onclick=\"convertToInteractive('df-29073b0f-3d9d-440e-a717-0574c5e402b5')\"\n",
              "            title=\"Convert this dataframe to an interactive table.\"\n",
              "            style=\"display:none;\">\n",
              "\n",
              "  <svg xmlns=\"http://www.w3.org/2000/svg\" height=\"24px\" viewBox=\"0 -960 960 960\">\n",
              "    <path d=\"M120-120v-720h720v720H120Zm60-500h600v-160H180v160Zm220 220h160v-160H400v160Zm0 220h160v-160H400v160ZM180-400h160v-160H180v160Zm440 0h160v-160H620v160ZM180-180h160v-160H180v160Zm440 0h160v-160H620v160Z\"/>\n",
              "  </svg>\n",
              "    </button>\n",
              "\n",
              "  <style>\n",
              "    .colab-df-container {\n",
              "      display:flex;\n",
              "      gap: 12px;\n",
              "    }\n",
              "\n",
              "    .colab-df-convert {\n",
              "      background-color: #E8F0FE;\n",
              "      border: none;\n",
              "      border-radius: 50%;\n",
              "      cursor: pointer;\n",
              "      display: none;\n",
              "      fill: #1967D2;\n",
              "      height: 32px;\n",
              "      padding: 0 0 0 0;\n",
              "      width: 32px;\n",
              "    }\n",
              "\n",
              "    .colab-df-convert:hover {\n",
              "      background-color: #E2EBFA;\n",
              "      box-shadow: 0px 1px 2px rgba(60, 64, 67, 0.3), 0px 1px 3px 1px rgba(60, 64, 67, 0.15);\n",
              "      fill: #174EA6;\n",
              "    }\n",
              "\n",
              "    .colab-df-buttons div {\n",
              "      margin-bottom: 4px;\n",
              "    }\n",
              "\n",
              "    [theme=dark] .colab-df-convert {\n",
              "      background-color: #3B4455;\n",
              "      fill: #D2E3FC;\n",
              "    }\n",
              "\n",
              "    [theme=dark] .colab-df-convert:hover {\n",
              "      background-color: #434B5C;\n",
              "      box-shadow: 0px 1px 3px 1px rgba(0, 0, 0, 0.15);\n",
              "      filter: drop-shadow(0px 1px 2px rgba(0, 0, 0, 0.3));\n",
              "      fill: #FFFFFF;\n",
              "    }\n",
              "  </style>\n",
              "\n",
              "    <script>\n",
              "      const buttonEl =\n",
              "        document.querySelector('#df-29073b0f-3d9d-440e-a717-0574c5e402b5 button.colab-df-convert');\n",
              "      buttonEl.style.display =\n",
              "        google.colab.kernel.accessAllowed ? 'block' : 'none';\n",
              "\n",
              "      async function convertToInteractive(key) {\n",
              "        const element = document.querySelector('#df-29073b0f-3d9d-440e-a717-0574c5e402b5');\n",
              "        const dataTable =\n",
              "          await google.colab.kernel.invokeFunction('convertToInteractive',\n",
              "                                                    [key], {});\n",
              "        if (!dataTable) return;\n",
              "\n",
              "        const docLinkHtml = 'Like what you see? Visit the ' +\n",
              "          '<a target=\"_blank\" href=https://colab.research.google.com/notebooks/data_table.ipynb>data table notebook</a>'\n",
              "          + ' to learn more about interactive tables.';\n",
              "        element.innerHTML = '';\n",
              "        dataTable['output_type'] = 'display_data';\n",
              "        await google.colab.output.renderOutput(dataTable, element);\n",
              "        const docLink = document.createElement('div');\n",
              "        docLink.innerHTML = docLinkHtml;\n",
              "        element.appendChild(docLink);\n",
              "      }\n",
              "    </script>\n",
              "  </div>\n",
              "\n",
              "\n",
              "    <div id=\"df-eb94a0ca-cc42-423c-bcb7-b0338e0b8168\">\n",
              "      <button class=\"colab-df-quickchart\" onclick=\"quickchart('df-eb94a0ca-cc42-423c-bcb7-b0338e0b8168')\"\n",
              "                title=\"Suggest charts\"\n",
              "                style=\"display:none;\">\n",
              "\n",
              "<svg xmlns=\"http://www.w3.org/2000/svg\" height=\"24px\"viewBox=\"0 0 24 24\"\n",
              "     width=\"24px\">\n",
              "    <g>\n",
              "        <path d=\"M19 3H5c-1.1 0-2 .9-2 2v14c0 1.1.9 2 2 2h14c1.1 0 2-.9 2-2V5c0-1.1-.9-2-2-2zM9 17H7v-7h2v7zm4 0h-2V7h2v10zm4 0h-2v-4h2v4z\"/>\n",
              "    </g>\n",
              "</svg>\n",
              "      </button>\n",
              "\n",
              "<style>\n",
              "  .colab-df-quickchart {\n",
              "      --bg-color: #E8F0FE;\n",
              "      --fill-color: #1967D2;\n",
              "      --hover-bg-color: #E2EBFA;\n",
              "      --hover-fill-color: #174EA6;\n",
              "      --disabled-fill-color: #AAA;\n",
              "      --disabled-bg-color: #DDD;\n",
              "  }\n",
              "\n",
              "  [theme=dark] .colab-df-quickchart {\n",
              "      --bg-color: #3B4455;\n",
              "      --fill-color: #D2E3FC;\n",
              "      --hover-bg-color: #434B5C;\n",
              "      --hover-fill-color: #FFFFFF;\n",
              "      --disabled-bg-color: #3B4455;\n",
              "      --disabled-fill-color: #666;\n",
              "  }\n",
              "\n",
              "  .colab-df-quickchart {\n",
              "    background-color: var(--bg-color);\n",
              "    border: none;\n",
              "    border-radius: 50%;\n",
              "    cursor: pointer;\n",
              "    display: none;\n",
              "    fill: var(--fill-color);\n",
              "    height: 32px;\n",
              "    padding: 0;\n",
              "    width: 32px;\n",
              "  }\n",
              "\n",
              "  .colab-df-quickchart:hover {\n",
              "    background-color: var(--hover-bg-color);\n",
              "    box-shadow: 0 1px 2px rgba(60, 64, 67, 0.3), 0 1px 3px 1px rgba(60, 64, 67, 0.15);\n",
              "    fill: var(--button-hover-fill-color);\n",
              "  }\n",
              "\n",
              "  .colab-df-quickchart-complete:disabled,\n",
              "  .colab-df-quickchart-complete:disabled:hover {\n",
              "    background-color: var(--disabled-bg-color);\n",
              "    fill: var(--disabled-fill-color);\n",
              "    box-shadow: none;\n",
              "  }\n",
              "\n",
              "  .colab-df-spinner {\n",
              "    border: 2px solid var(--fill-color);\n",
              "    border-color: transparent;\n",
              "    border-bottom-color: var(--fill-color);\n",
              "    animation:\n",
              "      spin 1s steps(1) infinite;\n",
              "  }\n",
              "\n",
              "  @keyframes spin {\n",
              "    0% {\n",
              "      border-color: transparent;\n",
              "      border-bottom-color: var(--fill-color);\n",
              "      border-left-color: var(--fill-color);\n",
              "    }\n",
              "    20% {\n",
              "      border-color: transparent;\n",
              "      border-left-color: var(--fill-color);\n",
              "      border-top-color: var(--fill-color);\n",
              "    }\n",
              "    30% {\n",
              "      border-color: transparent;\n",
              "      border-left-color: var(--fill-color);\n",
              "      border-top-color: var(--fill-color);\n",
              "      border-right-color: var(--fill-color);\n",
              "    }\n",
              "    40% {\n",
              "      border-color: transparent;\n",
              "      border-right-color: var(--fill-color);\n",
              "      border-top-color: var(--fill-color);\n",
              "    }\n",
              "    60% {\n",
              "      border-color: transparent;\n",
              "      border-right-color: var(--fill-color);\n",
              "    }\n",
              "    80% {\n",
              "      border-color: transparent;\n",
              "      border-right-color: var(--fill-color);\n",
              "      border-bottom-color: var(--fill-color);\n",
              "    }\n",
              "    90% {\n",
              "      border-color: transparent;\n",
              "      border-bottom-color: var(--fill-color);\n",
              "    }\n",
              "  }\n",
              "</style>\n",
              "\n",
              "      <script>\n",
              "        async function quickchart(key) {\n",
              "          const quickchartButtonEl =\n",
              "            document.querySelector('#' + key + ' button');\n",
              "          quickchartButtonEl.disabled = true;  // To prevent multiple clicks.\n",
              "          quickchartButtonEl.classList.add('colab-df-spinner');\n",
              "          try {\n",
              "            const charts = await google.colab.kernel.invokeFunction(\n",
              "                'suggestCharts', [key], {});\n",
              "          } catch (error) {\n",
              "            console.error('Error during call to suggestCharts:', error);\n",
              "          }\n",
              "          quickchartButtonEl.classList.remove('colab-df-spinner');\n",
              "          quickchartButtonEl.classList.add('colab-df-quickchart-complete');\n",
              "        }\n",
              "        (() => {\n",
              "          let quickchartButtonEl =\n",
              "            document.querySelector('#df-eb94a0ca-cc42-423c-bcb7-b0338e0b8168 button');\n",
              "          quickchartButtonEl.style.display =\n",
              "            google.colab.kernel.accessAllowed ? 'block' : 'none';\n",
              "        })();\n",
              "      </script>\n",
              "    </div>\n",
              "\n",
              "    </div>\n",
              "  </div>\n"
            ],
            "application/vnd.google.colaboratory.intrinsic+json": {
              "type": "dataframe",
              "variable_name": "partners",
              "summary": "{\n  \"name\": \"partners\",\n  \"rows\": 13,\n  \"fields\": [\n    {\n      \"column\": \"Partner Type\",\n      \"properties\": {\n        \"dtype\": \"string\",\n        \"num_unique_values\": 7,\n        \"samples\": [\n          \"Utility Companies\",\n          \"Private Equity Firms\",\n          \"Corporate Partners\"\n        ],\n        \"semantic_type\": \"\",\n        \"description\": \"\"\n      }\n    },\n    {\n      \"column\": \"Description\",\n      \"properties\": {\n        \"dtype\": \"string\",\n        \"num_unique_values\": 7,\n        \"samples\": [\n          \"Established energy providers looking to expand renewable portfolio\",\n          \"Investment firms specializing in energy or infrastructure\",\n          \"Companies seeking to offset energy costs or improve ESG\"\n        ],\n        \"semantic_type\": \"\",\n        \"description\": \"\"\n      }\n    },\n    {\n      \"column\": \"Typical Investment Range\",\n      \"properties\": {\n        \"dtype\": \"string\",\n        \"num_unique_values\": 7,\n        \"samples\": [\n          \"$10M-$100M+\",\n          \"$5M-$500M\",\n          \"$1M-$50M\"\n        ],\n        \"semantic_type\": \"\",\n        \"description\": \"\"\n      }\n    },\n    {\n      \"column\": \"Advantages\",\n      \"properties\": {\n        \"dtype\": \"string\",\n        \"num_unique_values\": 7,\n        \"samples\": [\n          \"Experience in energy sector, existing infrastructure\",\n          \"Large capital availability, industry expertise\",\n          \"Stable long-term PPA agreements, marketing value\"\n        ],\n        \"semantic_type\": \"\",\n        \"description\": \"\"\n      }\n    },\n    {\n      \"column\": \"Disadvantages\",\n      \"properties\": {\n        \"dtype\": \"string\",\n        \"num_unique_values\": 7,\n        \"samples\": [\n          \"May have competing interests with fossil fuels\",\n          \"High return expectations, less patience for long-term projects\",\n          \"May want specific project attributes or locations\"\n        ],\n        \"semantic_type\": \"\",\n        \"description\": \"\"\n      }\n    },\n    {\n      \"column\": \"Column 6\",\n      \"properties\": {\n        \"dtype\": \"number\",\n        \"std\": null,\n        \"min\": null,\n        \"max\": null,\n        \"num_unique_values\": 0,\n        \"samples\": [],\n        \"semantic_type\": \"\",\n        \"description\": \"\"\n      }\n    }\n  ]\n}"
            }
          },
          "metadata": {},
          "execution_count": 5
        }
      ]
    },
    {
      "cell_type": "code",
      "source": [
        "partners.info()"
      ],
      "metadata": {
        "colab": {
          "base_uri": "https://localhost:8080/"
        },
        "id": "8nF6kFKHu6P-",
        "outputId": "83c2ba11-d71c-414f-9722-663ff096df46"
      },
      "execution_count": null,
      "outputs": [
        {
          "output_type": "stream",
          "name": "stdout",
          "text": [
            "<class 'pandas.core.frame.DataFrame'>\n",
            "RangeIndex: 13 entries, 0 to 12\n",
            "Data columns (total 6 columns):\n",
            " #   Column                    Non-Null Count  Dtype  \n",
            "---  ------                    --------------  -----  \n",
            " 0   Partner Type              7 non-null      object \n",
            " 1   Description               7 non-null      object \n",
            " 2   Typical Investment Range  7 non-null      object \n",
            " 3   Advantages                7 non-null      object \n",
            " 4   Disadvantages             7 non-null      object \n",
            " 5   Column 6                  0 non-null      float64\n",
            "dtypes: float64(1), object(5)\n",
            "memory usage: 756.0+ bytes\n"
          ]
        }
      ]
    },
    {
      "cell_type": "code",
      "source": [
        "turbines.head()"
      ],
      "metadata": {
        "colab": {
          "base_uri": "https://localhost:8080/",
          "height": 412
        },
        "id": "BU6jrdBhvB2z",
        "outputId": "ad06047e-aaa1-4213-f610-c270bdd3e174"
      },
      "execution_count": null,
      "outputs": [
        {
          "output_type": "execute_result",
          "data": {
            "text/plain": [
              "   case_id    faa_ors           faa_asn  usgs_pr_id   eia_id t_state  \\\n",
              "0  3072661        NaN               NaN      5149.0  52161.0      CA   \n",
              "1  3072695        NaN               NaN      5143.0  52161.0      CA   \n",
              "2  3072704        NaN               NaN      5146.0  52161.0      CA   \n",
              "3  3063272  19-028134  2014-WTE-4084-OE         NaN      NaN      IA   \n",
              "4  3053390  19-028015  2015-WTE-6386-OE         NaN      NaN      IA   \n",
              "\n",
              "       t_county  t_fips                   p_name  p_year  ...     t_rsa  \\\n",
              "0   Kern County    6029                 251 Wind  1987.0  ...       NaN   \n",
              "1   Kern County    6029                 251 Wind  1987.0  ...       NaN   \n",
              "2   Kern County    6029                 251 Wind  1987.0  ...       NaN   \n",
              "3  Story County   19169  30 MW Iowa DG Portfolio  2017.0  ...  12271.85   \n",
              "4  Boone County   19015  30 MW Iowa DG Portfolio  2017.0  ...  12271.85   \n",
              "\n",
              "   t_ttlh retrofit retrofit_year  t_conf_atr  t_conf_loc  t_img_date  \\\n",
              "0     NaN        0           NaN           2           3    5/8/2018   \n",
              "1     NaN        0           NaN           2           3    5/8/2018   \n",
              "2     NaN        0           NaN           2           3    5/8/2018   \n",
              "3   150.0        0           NaN           3           3   4/24/2017   \n",
              "4   150.0        0           NaN           3           3    6/1/2017   \n",
              "\n",
              "      t_img_srce       xlong       ylat  \n",
              "0  Digital Globe -118.363762  35.077908  \n",
              "1  Digital Globe -118.364410  35.077435  \n",
              "2  Digital Globe -118.364197  35.077644  \n",
              "3  Digital Globe  -93.430367  42.028233  \n",
              "4  Digital Globe  -93.700424  41.977608  \n",
              "\n",
              "[5 rows x 27 columns]"
            ],
            "text/html": [
              "\n",
              "  <div id=\"df-a9b166a3-f5aa-4186-a8e1-08843b9b2f98\" class=\"colab-df-container\">\n",
              "    <div>\n",
              "<style scoped>\n",
              "    .dataframe tbody tr th:only-of-type {\n",
              "        vertical-align: middle;\n",
              "    }\n",
              "\n",
              "    .dataframe tbody tr th {\n",
              "        vertical-align: top;\n",
              "    }\n",
              "\n",
              "    .dataframe thead th {\n",
              "        text-align: right;\n",
              "    }\n",
              "</style>\n",
              "<table border=\"1\" class=\"dataframe\">\n",
              "  <thead>\n",
              "    <tr style=\"text-align: right;\">\n",
              "      <th></th>\n",
              "      <th>case_id</th>\n",
              "      <th>faa_ors</th>\n",
              "      <th>faa_asn</th>\n",
              "      <th>usgs_pr_id</th>\n",
              "      <th>eia_id</th>\n",
              "      <th>t_state</th>\n",
              "      <th>t_county</th>\n",
              "      <th>t_fips</th>\n",
              "      <th>p_name</th>\n",
              "      <th>p_year</th>\n",
              "      <th>...</th>\n",
              "      <th>t_rsa</th>\n",
              "      <th>t_ttlh</th>\n",
              "      <th>retrofit</th>\n",
              "      <th>retrofit_year</th>\n",
              "      <th>t_conf_atr</th>\n",
              "      <th>t_conf_loc</th>\n",
              "      <th>t_img_date</th>\n",
              "      <th>t_img_srce</th>\n",
              "      <th>xlong</th>\n",
              "      <th>ylat</th>\n",
              "    </tr>\n",
              "  </thead>\n",
              "  <tbody>\n",
              "    <tr>\n",
              "      <th>0</th>\n",
              "      <td>3072661</td>\n",
              "      <td>NaN</td>\n",
              "      <td>NaN</td>\n",
              "      <td>5149.0</td>\n",
              "      <td>52161.0</td>\n",
              "      <td>CA</td>\n",
              "      <td>Kern County</td>\n",
              "      <td>6029</td>\n",
              "      <td>251 Wind</td>\n",
              "      <td>1987.0</td>\n",
              "      <td>...</td>\n",
              "      <td>NaN</td>\n",
              "      <td>NaN</td>\n",
              "      <td>0</td>\n",
              "      <td>NaN</td>\n",
              "      <td>2</td>\n",
              "      <td>3</td>\n",
              "      <td>5/8/2018</td>\n",
              "      <td>Digital Globe</td>\n",
              "      <td>-118.363762</td>\n",
              "      <td>35.077908</td>\n",
              "    </tr>\n",
              "    <tr>\n",
              "      <th>1</th>\n",
              "      <td>3072695</td>\n",
              "      <td>NaN</td>\n",
              "      <td>NaN</td>\n",
              "      <td>5143.0</td>\n",
              "      <td>52161.0</td>\n",
              "      <td>CA</td>\n",
              "      <td>Kern County</td>\n",
              "      <td>6029</td>\n",
              "      <td>251 Wind</td>\n",
              "      <td>1987.0</td>\n",
              "      <td>...</td>\n",
              "      <td>NaN</td>\n",
              "      <td>NaN</td>\n",
              "      <td>0</td>\n",
              "      <td>NaN</td>\n",
              "      <td>2</td>\n",
              "      <td>3</td>\n",
              "      <td>5/8/2018</td>\n",
              "      <td>Digital Globe</td>\n",
              "      <td>-118.364410</td>\n",
              "      <td>35.077435</td>\n",
              "    </tr>\n",
              "    <tr>\n",
              "      <th>2</th>\n",
              "      <td>3072704</td>\n",
              "      <td>NaN</td>\n",
              "      <td>NaN</td>\n",
              "      <td>5146.0</td>\n",
              "      <td>52161.0</td>\n",
              "      <td>CA</td>\n",
              "      <td>Kern County</td>\n",
              "      <td>6029</td>\n",
              "      <td>251 Wind</td>\n",
              "      <td>1987.0</td>\n",
              "      <td>...</td>\n",
              "      <td>NaN</td>\n",
              "      <td>NaN</td>\n",
              "      <td>0</td>\n",
              "      <td>NaN</td>\n",
              "      <td>2</td>\n",
              "      <td>3</td>\n",
              "      <td>5/8/2018</td>\n",
              "      <td>Digital Globe</td>\n",
              "      <td>-118.364197</td>\n",
              "      <td>35.077644</td>\n",
              "    </tr>\n",
              "    <tr>\n",
              "      <th>3</th>\n",
              "      <td>3063272</td>\n",
              "      <td>19-028134</td>\n",
              "      <td>2014-WTE-4084-OE</td>\n",
              "      <td>NaN</td>\n",
              "      <td>NaN</td>\n",
              "      <td>IA</td>\n",
              "      <td>Story County</td>\n",
              "      <td>19169</td>\n",
              "      <td>30 MW Iowa DG Portfolio</td>\n",
              "      <td>2017.0</td>\n",
              "      <td>...</td>\n",
              "      <td>12271.85</td>\n",
              "      <td>150.0</td>\n",
              "      <td>0</td>\n",
              "      <td>NaN</td>\n",
              "      <td>3</td>\n",
              "      <td>3</td>\n",
              "      <td>4/24/2017</td>\n",
              "      <td>Digital Globe</td>\n",
              "      <td>-93.430367</td>\n",
              "      <td>42.028233</td>\n",
              "    </tr>\n",
              "    <tr>\n",
              "      <th>4</th>\n",
              "      <td>3053390</td>\n",
              "      <td>19-028015</td>\n",
              "      <td>2015-WTE-6386-OE</td>\n",
              "      <td>NaN</td>\n",
              "      <td>NaN</td>\n",
              "      <td>IA</td>\n",
              "      <td>Boone County</td>\n",
              "      <td>19015</td>\n",
              "      <td>30 MW Iowa DG Portfolio</td>\n",
              "      <td>2017.0</td>\n",
              "      <td>...</td>\n",
              "      <td>12271.85</td>\n",
              "      <td>150.0</td>\n",
              "      <td>0</td>\n",
              "      <td>NaN</td>\n",
              "      <td>3</td>\n",
              "      <td>3</td>\n",
              "      <td>6/1/2017</td>\n",
              "      <td>Digital Globe</td>\n",
              "      <td>-93.700424</td>\n",
              "      <td>41.977608</td>\n",
              "    </tr>\n",
              "  </tbody>\n",
              "</table>\n",
              "<p>5 rows × 27 columns</p>\n",
              "</div>\n",
              "    <div class=\"colab-df-buttons\">\n",
              "\n",
              "  <div class=\"colab-df-container\">\n",
              "    <button class=\"colab-df-convert\" onclick=\"convertToInteractive('df-a9b166a3-f5aa-4186-a8e1-08843b9b2f98')\"\n",
              "            title=\"Convert this dataframe to an interactive table.\"\n",
              "            style=\"display:none;\">\n",
              "\n",
              "  <svg xmlns=\"http://www.w3.org/2000/svg\" height=\"24px\" viewBox=\"0 -960 960 960\">\n",
              "    <path d=\"M120-120v-720h720v720H120Zm60-500h600v-160H180v160Zm220 220h160v-160H400v160Zm0 220h160v-160H400v160ZM180-400h160v-160H180v160Zm440 0h160v-160H620v160ZM180-180h160v-160H180v160Zm440 0h160v-160H620v160Z\"/>\n",
              "  </svg>\n",
              "    </button>\n",
              "\n",
              "  <style>\n",
              "    .colab-df-container {\n",
              "      display:flex;\n",
              "      gap: 12px;\n",
              "    }\n",
              "\n",
              "    .colab-df-convert {\n",
              "      background-color: #E8F0FE;\n",
              "      border: none;\n",
              "      border-radius: 50%;\n",
              "      cursor: pointer;\n",
              "      display: none;\n",
              "      fill: #1967D2;\n",
              "      height: 32px;\n",
              "      padding: 0 0 0 0;\n",
              "      width: 32px;\n",
              "    }\n",
              "\n",
              "    .colab-df-convert:hover {\n",
              "      background-color: #E2EBFA;\n",
              "      box-shadow: 0px 1px 2px rgba(60, 64, 67, 0.3), 0px 1px 3px 1px rgba(60, 64, 67, 0.15);\n",
              "      fill: #174EA6;\n",
              "    }\n",
              "\n",
              "    .colab-df-buttons div {\n",
              "      margin-bottom: 4px;\n",
              "    }\n",
              "\n",
              "    [theme=dark] .colab-df-convert {\n",
              "      background-color: #3B4455;\n",
              "      fill: #D2E3FC;\n",
              "    }\n",
              "\n",
              "    [theme=dark] .colab-df-convert:hover {\n",
              "      background-color: #434B5C;\n",
              "      box-shadow: 0px 1px 3px 1px rgba(0, 0, 0, 0.15);\n",
              "      filter: drop-shadow(0px 1px 2px rgba(0, 0, 0, 0.3));\n",
              "      fill: #FFFFFF;\n",
              "    }\n",
              "  </style>\n",
              "\n",
              "    <script>\n",
              "      const buttonEl =\n",
              "        document.querySelector('#df-a9b166a3-f5aa-4186-a8e1-08843b9b2f98 button.colab-df-convert');\n",
              "      buttonEl.style.display =\n",
              "        google.colab.kernel.accessAllowed ? 'block' : 'none';\n",
              "\n",
              "      async function convertToInteractive(key) {\n",
              "        const element = document.querySelector('#df-a9b166a3-f5aa-4186-a8e1-08843b9b2f98');\n",
              "        const dataTable =\n",
              "          await google.colab.kernel.invokeFunction('convertToInteractive',\n",
              "                                                    [key], {});\n",
              "        if (!dataTable) return;\n",
              "\n",
              "        const docLinkHtml = 'Like what you see? Visit the ' +\n",
              "          '<a target=\"_blank\" href=https://colab.research.google.com/notebooks/data_table.ipynb>data table notebook</a>'\n",
              "          + ' to learn more about interactive tables.';\n",
              "        element.innerHTML = '';\n",
              "        dataTable['output_type'] = 'display_data';\n",
              "        await google.colab.output.renderOutput(dataTable, element);\n",
              "        const docLink = document.createElement('div');\n",
              "        docLink.innerHTML = docLinkHtml;\n",
              "        element.appendChild(docLink);\n",
              "      }\n",
              "    </script>\n",
              "  </div>\n",
              "\n",
              "\n",
              "    <div id=\"df-9736f60d-dcdb-4420-a3c3-ff6a78aea9e9\">\n",
              "      <button class=\"colab-df-quickchart\" onclick=\"quickchart('df-9736f60d-dcdb-4420-a3c3-ff6a78aea9e9')\"\n",
              "                title=\"Suggest charts\"\n",
              "                style=\"display:none;\">\n",
              "\n",
              "<svg xmlns=\"http://www.w3.org/2000/svg\" height=\"24px\"viewBox=\"0 0 24 24\"\n",
              "     width=\"24px\">\n",
              "    <g>\n",
              "        <path d=\"M19 3H5c-1.1 0-2 .9-2 2v14c0 1.1.9 2 2 2h14c1.1 0 2-.9 2-2V5c0-1.1-.9-2-2-2zM9 17H7v-7h2v7zm4 0h-2V7h2v10zm4 0h-2v-4h2v4z\"/>\n",
              "    </g>\n",
              "</svg>\n",
              "      </button>\n",
              "\n",
              "<style>\n",
              "  .colab-df-quickchart {\n",
              "      --bg-color: #E8F0FE;\n",
              "      --fill-color: #1967D2;\n",
              "      --hover-bg-color: #E2EBFA;\n",
              "      --hover-fill-color: #174EA6;\n",
              "      --disabled-fill-color: #AAA;\n",
              "      --disabled-bg-color: #DDD;\n",
              "  }\n",
              "\n",
              "  [theme=dark] .colab-df-quickchart {\n",
              "      --bg-color: #3B4455;\n",
              "      --fill-color: #D2E3FC;\n",
              "      --hover-bg-color: #434B5C;\n",
              "      --hover-fill-color: #FFFFFF;\n",
              "      --disabled-bg-color: #3B4455;\n",
              "      --disabled-fill-color: #666;\n",
              "  }\n",
              "\n",
              "  .colab-df-quickchart {\n",
              "    background-color: var(--bg-color);\n",
              "    border: none;\n",
              "    border-radius: 50%;\n",
              "    cursor: pointer;\n",
              "    display: none;\n",
              "    fill: var(--fill-color);\n",
              "    height: 32px;\n",
              "    padding: 0;\n",
              "    width: 32px;\n",
              "  }\n",
              "\n",
              "  .colab-df-quickchart:hover {\n",
              "    background-color: var(--hover-bg-color);\n",
              "    box-shadow: 0 1px 2px rgba(60, 64, 67, 0.3), 0 1px 3px 1px rgba(60, 64, 67, 0.15);\n",
              "    fill: var(--button-hover-fill-color);\n",
              "  }\n",
              "\n",
              "  .colab-df-quickchart-complete:disabled,\n",
              "  .colab-df-quickchart-complete:disabled:hover {\n",
              "    background-color: var(--disabled-bg-color);\n",
              "    fill: var(--disabled-fill-color);\n",
              "    box-shadow: none;\n",
              "  }\n",
              "\n",
              "  .colab-df-spinner {\n",
              "    border: 2px solid var(--fill-color);\n",
              "    border-color: transparent;\n",
              "    border-bottom-color: var(--fill-color);\n",
              "    animation:\n",
              "      spin 1s steps(1) infinite;\n",
              "  }\n",
              "\n",
              "  @keyframes spin {\n",
              "    0% {\n",
              "      border-color: transparent;\n",
              "      border-bottom-color: var(--fill-color);\n",
              "      border-left-color: var(--fill-color);\n",
              "    }\n",
              "    20% {\n",
              "      border-color: transparent;\n",
              "      border-left-color: var(--fill-color);\n",
              "      border-top-color: var(--fill-color);\n",
              "    }\n",
              "    30% {\n",
              "      border-color: transparent;\n",
              "      border-left-color: var(--fill-color);\n",
              "      border-top-color: var(--fill-color);\n",
              "      border-right-color: var(--fill-color);\n",
              "    }\n",
              "    40% {\n",
              "      border-color: transparent;\n",
              "      border-right-color: var(--fill-color);\n",
              "      border-top-color: var(--fill-color);\n",
              "    }\n",
              "    60% {\n",
              "      border-color: transparent;\n",
              "      border-right-color: var(--fill-color);\n",
              "    }\n",
              "    80% {\n",
              "      border-color: transparent;\n",
              "      border-right-color: var(--fill-color);\n",
              "      border-bottom-color: var(--fill-color);\n",
              "    }\n",
              "    90% {\n",
              "      border-color: transparent;\n",
              "      border-bottom-color: var(--fill-color);\n",
              "    }\n",
              "  }\n",
              "</style>\n",
              "\n",
              "      <script>\n",
              "        async function quickchart(key) {\n",
              "          const quickchartButtonEl =\n",
              "            document.querySelector('#' + key + ' button');\n",
              "          quickchartButtonEl.disabled = true;  // To prevent multiple clicks.\n",
              "          quickchartButtonEl.classList.add('colab-df-spinner');\n",
              "          try {\n",
              "            const charts = await google.colab.kernel.invokeFunction(\n",
              "                'suggestCharts', [key], {});\n",
              "          } catch (error) {\n",
              "            console.error('Error during call to suggestCharts:', error);\n",
              "          }\n",
              "          quickchartButtonEl.classList.remove('colab-df-spinner');\n",
              "          quickchartButtonEl.classList.add('colab-df-quickchart-complete');\n",
              "        }\n",
              "        (() => {\n",
              "          let quickchartButtonEl =\n",
              "            document.querySelector('#df-9736f60d-dcdb-4420-a3c3-ff6a78aea9e9 button');\n",
              "          quickchartButtonEl.style.display =\n",
              "            google.colab.kernel.accessAllowed ? 'block' : 'none';\n",
              "        })();\n",
              "      </script>\n",
              "    </div>\n",
              "\n",
              "    </div>\n",
              "  </div>\n"
            ],
            "application/vnd.google.colaboratory.intrinsic+json": {
              "type": "dataframe",
              "variable_name": "turbines"
            }
          },
          "metadata": {},
          "execution_count": 7
        }
      ]
    },
    {
      "cell_type": "code",
      "source": [
        "turbines.info()"
      ],
      "metadata": {
        "colab": {
          "base_uri": "https://localhost:8080/"
        },
        "id": "Af19BDYkvF9k",
        "outputId": "0fd5a8df-fbdf-45c9-d6e5-00197f416ed7"
      },
      "execution_count": null,
      "outputs": [
        {
          "output_type": "stream",
          "name": "stdout",
          "text": [
            "<class 'pandas.core.frame.DataFrame'>\n",
            "RangeIndex: 70808 entries, 0 to 70807\n",
            "Data columns (total 27 columns):\n",
            " #   Column         Non-Null Count  Dtype  \n",
            "---  ------         --------------  -----  \n",
            " 0   case_id        70808 non-null  int64  \n",
            " 1   faa_ors        65016 non-null  object \n",
            " 2   faa_asn        65686 non-null  object \n",
            " 3   usgs_pr_id     38263 non-null  float64\n",
            " 4   eia_id         65015 non-null  float64\n",
            " 5   t_state        70808 non-null  object \n",
            " 6   t_county       70808 non-null  object \n",
            " 7   t_fips         70808 non-null  int64  \n",
            " 8   p_name         70808 non-null  object \n",
            " 9   p_year         70195 non-null  float64\n",
            " 10  p_tnum         70808 non-null  int64  \n",
            " 11  p_cap          66326 non-null  float64\n",
            " 12  t_manu         65168 non-null  object \n",
            " 13  t_model        65031 non-null  object \n",
            " 14  t_cap          65328 non-null  float64\n",
            " 15  t_hh           64628 non-null  float64\n",
            " 16  t_rd           64874 non-null  float64\n",
            " 17  t_rsa          64874 non-null  float64\n",
            " 18  t_ttlh         64628 non-null  float64\n",
            " 19  retrofit       70808 non-null  int64  \n",
            " 20  retrofit_year  5986 non-null   float64\n",
            " 21  t_conf_atr     70808 non-null  int64  \n",
            " 22  t_conf_loc     70808 non-null  int64  \n",
            " 23  t_img_date     62492 non-null  object \n",
            " 24  t_img_srce     70808 non-null  object \n",
            " 25  xlong          70808 non-null  float64\n",
            " 26  ylat           70808 non-null  float64\n",
            "dtypes: float64(12), int64(6), object(9)\n",
            "memory usage: 14.6+ MB\n"
          ]
        }
      ]
    },
    {
      "cell_type": "code",
      "source": [
        "# Clean partners DataFrame\n",
        "partners_clean = partners.rename(columns={\n",
        "    \"Partner Type\":              \"partner_type\",\n",
        "    \"Description\":               \"description\",\n",
        "    \"Typical Investment Range\":  \"investment_range\",\n",
        "    \"Advantages\":                \"advantages\",\n",
        "    \"Disadvantages\":             \"disadvantages\"\n",
        "})\n"
      ],
      "metadata": {
        "id": "eq_AAVjovqkj"
      },
      "execution_count": null,
      "outputs": []
    },
    {
      "cell_type": "code",
      "source": [
        "# Drop the empty “Column 6” and any rows missing the partner_type\n",
        "partners_clean = (\n",
        "    partners_clean\n",
        "    .drop(columns=[\"Column 6\"])\n",
        "    .dropna(subset=[\"partner_type\"])\n",
        "    .reset_index(drop=True)\n",
        ")"
      ],
      "metadata": {
        "id": "Pq4-wca04iep"
      },
      "execution_count": null,
      "outputs": []
    },
    {
      "cell_type": "code",
      "source": [
        "# Clean turbines DataFrame\n",
        "turbines_clean = turbines.rename(columns={\n",
        "    \"case_id\":        \"turbine_id\",\n",
        "    \"t_state\":        \"state\",\n",
        "    \"t_county\":       \"county\",\n",
        "    \"p_name\":         \"project_name\",\n",
        "    \"p_year\":         \"project_year\",\n",
        "    \"p_tnum\":         \"project_turbine_count\",\n",
        "    \"p_cap\":          \"project_capacity_mw\",\n",
        "    \"t_manu\":         \"manufacturer\",\n",
        "    \"t_model\":        \"model\",\n",
        "    \"t_cap\":          \"capacity_kw\",\n",
        "    \"t_hh\":           \"hub_height_m\",\n",
        "    \"t_rd\":           \"rotor_diameter_m\",\n",
        "    \"t_rsa\":          \"rated_sound_level_db\",\n",
        "    \"t_ttlh\":         \"total_lifetime_hours\",\n",
        "    \"t_img_date\":     \"image_date\",\n",
        "    \"xlong\":          \"longitude\",\n",
        "    \"ylat\":           \"latitude\"\n",
        "})"
      ],
      "metadata": {
        "id": "DnuPCZ_24k7Y"
      },
      "execution_count": null,
      "outputs": []
    },
    {
      "cell_type": "code",
      "source": [
        "# Parse the image_date column\n",
        "turbines_clean[\"image_date\"] = pd.to_datetime(\n",
        "    turbines_clean[\"image_date\"],\n",
        "    format=\"%m/%d/%Y\",\n",
        "    errors=\"coerce\"\n",
        ")\n",
        "\n",
        "# Handle missing values\n",
        "#   – Numeric columns: fill with median\n",
        "for col in [\"project_year\", \"project_capacity_mw\", \"capacity_kw\", \"hub_height_m\", \"rotor_diameter_m\"]:\n",
        "    turbines_clean[col].fillna(turbines_clean[col].median(), inplace=True)\n",
        "\n",
        "#   – Categorical columns: fill with “Unknown”\n",
        "for col in [\"manufacturer\", \"model\"]:\n",
        "    turbines_clean[col].fillna(\"Unknown\", inplace=True)\n"
      ],
      "metadata": {
        "id": "JrZ1pxk54nNr"
      },
      "execution_count": null,
      "outputs": []
    },
    {
      "cell_type": "code",
      "source": [
        "# Quick check\n",
        "print(partners_clean.info())"
      ],
      "metadata": {
        "colab": {
          "base_uri": "https://localhost:8080/"
        },
        "id": "xjqwFNe34tCt",
        "outputId": "bc495b6e-ef2b-4ffb-e9dd-7e8814682b42"
      },
      "execution_count": null,
      "outputs": [
        {
          "output_type": "stream",
          "name": "stdout",
          "text": [
            "<class 'pandas.core.frame.DataFrame'>\n",
            "RangeIndex: 7 entries, 0 to 6\n",
            "Data columns (total 5 columns):\n",
            " #   Column            Non-Null Count  Dtype \n",
            "---  ------            --------------  ----- \n",
            " 0   partner_type      7 non-null      object\n",
            " 1   description       7 non-null      object\n",
            " 2   investment_range  7 non-null      object\n",
            " 3   advantages        7 non-null      object\n",
            " 4   disadvantages     7 non-null      object\n",
            "dtypes: object(5)\n",
            "memory usage: 412.0+ bytes\n",
            "None\n"
          ]
        }
      ]
    },
    {
      "cell_type": "code",
      "source": [
        "print(turbines_clean.info())\n"
      ],
      "metadata": {
        "colab": {
          "base_uri": "https://localhost:8080/"
        },
        "id": "BhHH6Pt64xHP",
        "outputId": "79ee8620-c6aa-4ec0-f2d7-3291c2db141a"
      },
      "execution_count": null,
      "outputs": [
        {
          "output_type": "stream",
          "name": "stdout",
          "text": [
            "<class 'pandas.core.frame.DataFrame'>\n",
            "RangeIndex: 70808 entries, 0 to 70807\n",
            "Data columns (total 27 columns):\n",
            " #   Column                 Non-Null Count  Dtype         \n",
            "---  ------                 --------------  -----         \n",
            " 0   turbine_id             70808 non-null  int64         \n",
            " 1   faa_ors                65016 non-null  object        \n",
            " 2   faa_asn                65686 non-null  object        \n",
            " 3   usgs_pr_id             38263 non-null  float64       \n",
            " 4   eia_id                 65015 non-null  float64       \n",
            " 5   state                  70808 non-null  object        \n",
            " 6   county                 70808 non-null  object        \n",
            " 7   t_fips                 70808 non-null  int64         \n",
            " 8   project_name           70808 non-null  object        \n",
            " 9   project_year           70808 non-null  float64       \n",
            " 10  project_turbine_count  70808 non-null  int64         \n",
            " 11  project_capacity_mw    70808 non-null  float64       \n",
            " 12  manufacturer           70808 non-null  object        \n",
            " 13  model                  70808 non-null  object        \n",
            " 14  capacity_kw            70808 non-null  float64       \n",
            " 15  hub_height_m           70808 non-null  float64       \n",
            " 16  rotor_diameter_m       70808 non-null  float64       \n",
            " 17  rated_sound_level_db   64874 non-null  float64       \n",
            " 18  total_lifetime_hours   64628 non-null  float64       \n",
            " 19  retrofit               70808 non-null  int64         \n",
            " 20  retrofit_year          5986 non-null   float64       \n",
            " 21  t_conf_atr             70808 non-null  int64         \n",
            " 22  t_conf_loc             70808 non-null  int64         \n",
            " 23  image_date             62492 non-null  datetime64[ns]\n",
            " 24  t_img_srce             70808 non-null  object        \n",
            " 25  longitude              70808 non-null  float64       \n",
            " 26  latitude               70808 non-null  float64       \n",
            "dtypes: datetime64[ns](1), float64(12), int64(6), object(8)\n",
            "memory usage: 14.6+ MB\n",
            "None\n"
          ]
        }
      ]
    },
    {
      "cell_type": "markdown",
      "source": [
        "# Compute Turbine Capacity (MW)\n"
      ],
      "metadata": {
        "id": "92W8T83POxLy"
      }
    },
    {
      "cell_type": "code",
      "source": [
        "#  Add capacity in MW\n",
        "turbines_clean[\"capacity_mw\"] = turbines_clean[\"capacity_kw\"] / 1000\n",
        "\n",
        "#  Overall summary\n",
        "total_capacity = turbines_clean[\"capacity_mw\"].sum()\n",
        "n_turbines    = turbines_clean.shape[0]\n",
        "print(f\"Total installed capacity: {total_capacity:.0f} MW\")\n",
        "print(f\"Total number of turbines: {n_turbines}\")\n"
      ],
      "metadata": {
        "colab": {
          "base_uri": "https://localhost:8080/"
        },
        "id": "GXBR7qN4vz5S",
        "outputId": "1a198e84-3581-47f0-cd01-4cd88990e531"
      },
      "execution_count": null,
      "outputs": [
        {
          "output_type": "stream",
          "name": "stdout",
          "text": [
            "Total installed capacity: 139234 MW\n",
            "Total number of turbines: 70808\n"
          ]
        }
      ]
    },
    {
      "cell_type": "markdown",
      "source": [
        "# Top 10 States by Installed Capacity"
      ],
      "metadata": {
        "id": "8iPztCGyOzXg"
      }
    },
    {
      "cell_type": "code",
      "source": [
        "#  Top 10 states by installed capacity\n",
        "cap_by_state = (\n",
        "    turbines_clean\n",
        "    .groupby(\"state\")[\"capacity_mw\"]\n",
        "    .sum()\n",
        "    .sort_values(ascending=False)\n",
        "    .head(10)\n",
        ")\n",
        "print(\"\\nTop 10 states by capacity (MW):\")\n",
        "print(cap_by_state)\n",
        "\n"
      ],
      "metadata": {
        "colab": {
          "base_uri": "https://localhost:8080/"
        },
        "id": "VBcqVTUyv4uT",
        "outputId": "7abe5fbd-0b74-45da-8e56-e5cf007e95a0"
      },
      "execution_count": null,
      "outputs": [
        {
          "output_type": "stream",
          "name": "stdout",
          "text": [
            "\n",
            "Top 10 states by capacity (MW):\n",
            "state\n",
            "TX    36088.804\n",
            "IA    12140.452\n",
            "OK    10465.565\n",
            "CA     9388.496\n",
            "KS     7912.840\n",
            "IL     6801.758\n",
            "CO     5129.290\n",
            "MN     4563.105\n",
            "ND     4472.080\n",
            "NM     3838.260\n",
            "Name: capacity_mw, dtype: float64\n"
          ]
        }
      ]
    },
    {
      "cell_type": "code",
      "source": [
        "# Bar chart: Top 10 states\n",
        "cap_by_state.plot(kind=\"bar\", figsize=(8,5))\n",
        "plt.title(\"Top 10 States by Installed Wind Capacity\")\n",
        "plt.xlabel(\"State\")\n",
        "plt.ylabel(\"Capacity (MW)\")\n",
        "plt.tight_layout()\n",
        "plt.savefig(\"top_10_states_by_capacity.png\")\n",
        "plt.show()\n"
      ],
      "metadata": {
        "colab": {
          "base_uri": "https://localhost:8080/",
          "height": 507
        },
        "id": "ZDndfRSqwEdT",
        "outputId": "d22eca0c-3d03-4c68-f214-b3b8a9e0ca7c"
      },
      "execution_count": null,
      "outputs": [
        {
          "output_type": "display_data",
          "data": {
            "text/plain": [
              "<Figure size 800x500 with 1 Axes>"
            ],
            "image/png": "[encoded data removed]"
          },
          "metadata": {}
        }
      ]
    },
    {
      "cell_type": "markdown",
      "source": [
        "# Turbines Commissioned per Year"
      ],
      "metadata": {
        "id": "aw1HDHhTO33T"
      }
    },
    {
      "cell_type": "code",
      "source": [
        "#  Turbines commissioned per year\n",
        "turbines_per_year = (\n",
        "    turbines_clean\n",
        "    .groupby(\"project_year\")\n",
        "    .size()\n",
        "    .sort_index()\n",
        ")\n",
        "plt.figure(figsize=(8,4))\n",
        "plt.plot(turbines_per_year.index, turbines_per_year.values, marker=\"o\")\n",
        "plt.title(\"Wind Turbines Commissioned per Year\")\n",
        "plt.xlabel(\"Commission Year\")\n",
        "plt.ylabel(\"Number of Turbines\")\n",
        "plt.tight_layout()\n",
        "plt.savefig(\"turbines_per_year.png\")\n",
        "plt.show()\n"
      ],
      "metadata": {
        "colab": {
          "base_uri": "https://localhost:8080/",
          "height": 407
        },
        "id": "PDiDCoprv8jh",
        "outputId": "5d33e858-fc1e-42c4-f547-d11044c9fd36"
      },
      "execution_count": null,
      "outputs": [
        {
          "output_type": "display_data",
          "data": {
            "text/plain": [
              "<Figure size 800x400 with 1 Axes>"
            ],
            "image/png": "[encoded data removed]"
          },
          "metadata": {}
        }
      ]
    },
    {
      "cell_type": "markdown",
      "source": [
        "# Distribution of Turbine Capacities"
      ],
      "metadata": {
        "id": "XHqr-O3tO7xt"
      }
    },
    {
      "cell_type": "code",
      "source": [
        "#  Distribution of turbine capacities\n",
        "plt.figure(figsize=(6,4))\n",
        "turbines_clean[\"capacity_mw\"].hist(bins=50)\n",
        "plt.title(\"Distribution of Turbine Capacities\")\n",
        "plt.xlabel(\"Capacity (MW)\")\n",
        "plt.ylabel(\"Count\")\n",
        "plt.tight_layout()\n",
        "plt.savefig(\"capacity_distribution.png\")\n",
        "plt.show()\n"
      ],
      "metadata": {
        "colab": {
          "base_uri": "https://localhost:8080/",
          "height": 407
        },
        "id": "bzSn-liFv_CK",
        "outputId": "f01cd4bd-d296-4083-c623-0ce6d25f2b2b"
      },
      "execution_count": null,
      "outputs": [
        {
          "output_type": "display_data",
          "data": {
            "text/plain": [
              "<Figure size 600x400 with 1 Axes>"
            ],
            "image/png": "[encoded data removed]"
          },
          "metadata": {}
        }
      ]
    },
    {
      "cell_type": "markdown",
      "source": [
        "# Divide states into High/Medium/Low buckets based on the 33rd and 66th percentiles of total capacity.\n"
      ],
      "metadata": {
        "id": "HChZ6JhvPH1q"
      }
    },
    {
      "cell_type": "code",
      "source": [
        "# Define which partner types suit each bucket\n",
        "high_partners   = [\"Utility Companies\", \"Private Equity Firms\"]\n",
        "medium_partners = [\"Government Agencies\", \"Green Energy Funds\"]\n",
        "low_partners    = [\"Community Investment\", \"Individual Investors\"]"
      ],
      "metadata": {
        "id": "YsTZwFYR5YCr"
      },
      "execution_count": null,
      "outputs": []
    },
    {
      "cell_type": "code",
      "source": [
        "# Sum capacity per state (recompute if needed)\n",
        "state_cap = turbines_clean.groupby(\"state\")[\"capacity_mw\"].sum()"
      ],
      "metadata": {
        "id": "JS65JVEN5X_G"
      },
      "execution_count": null,
      "outputs": []
    },
    {
      "cell_type": "code",
      "source": [
        "# Compute 33rd and 66th percentiles\n",
        "q_low, q_high = state_cap.quantile([0.33, 0.66])\n",
        "print(f\"Low/Medium cutoff: {q_low:.1f} MW, Medium/High cutoff: {q_high:.1f} MW\\n\")"
      ],
      "metadata": {
        "colab": {
          "base_uri": "https://localhost:8080/"
        },
        "id": "Iee2CmFD5XzC",
        "outputId": "bab814e7-8992-469c-8fcd-614751805bc3"
      },
      "execution_count": null,
      "outputs": [
        {
          "output_type": "stream",
          "name": "stdout",
          "text": [
            "Low/Medium cutoff: 207.2 MW, Medium/High cutoff: 3229.4 MW\n",
            "\n"
          ]
        }
      ]
    },
    {
      "cell_type": "markdown",
      "source": [
        "# Categorize States by Capacity"
      ],
      "metadata": {
        "id": "litmVwOJPcFF"
      }
    },
    {
      "cell_type": "code",
      "source": [
        "# Assign each state a category\n",
        "def categorize(cap):\n",
        "    if cap > q_high:\n",
        "        return \"High\"\n",
        "    elif cap > q_low:\n",
        "        return \"Medium\"\n",
        "    else:\n",
        "        return \"Low\"\n",
        "\n",
        "state_categories = state_cap.reset_index()\n",
        "state_categories[\"category\"] = state_categories[\"capacity_mw\"].apply(categorize)"
      ],
      "metadata": {
        "id": "7F8A5tg63Q53"
      },
      "execution_count": null,
      "outputs": []
    },
    {
      "cell_type": "code",
      "source": [
        "# Display counts\n",
        "print(\"States by capacity category:\")\n",
        "print(state_categories[\"category\"].value_counts(), \"\\n\")"
      ],
      "metadata": {
        "colab": {
          "base_uri": "https://localhost:8080/"
        },
        "id": "3D0mYrYu8myf",
        "outputId": "2af862ba-7b6d-4b78-eadd-f0aee7ae9c80"
      },
      "execution_count": null,
      "outputs": [
        {
          "output_type": "stream",
          "name": "stdout",
          "text": [
            "States by capacity category:\n",
            "category\n",
            "High      16\n",
            "Low       15\n",
            "Medium    15\n",
            "Name: count, dtype: int64 \n",
            "\n"
          ]
        }
      ]
    },
    {
      "cell_type": "markdown",
      "source": [
        "# Prepare Partner Recommendations"
      ],
      "metadata": {
        "id": "41k3-Qm6PfDI"
      }
    },
    {
      "cell_type": "code",
      "source": [
        "# Print out professional-style recommendations\n",
        "print(\"=== Recommendations ===\\n\")\n",
        "for cat, partners_list in [\n",
        "    (\"High\",   high_partners),\n",
        "    (\"Medium\", medium_partners),\n",
        "    (\"Low\",    low_partners)\n",
        "]:\n",
        "    states = state_categories[state_categories[\"category\"] == cat][\"state\"].tolist()\n",
        "    snippet = \", \".join(states[:5]) + (f\", ... (+{len(states)-5} more)\" if len(states)>5 else \"\")\n",
        "    print(f\"{cat}-capacity states ({len(states)}): {snippet}\")\n",
        "    print(\"→ Recommended partners:\", \", \".join(partners_list), \"\\n\")"
      ],
      "metadata": {
        "colab": {
          "base_uri": "https://localhost:8080/"
        },
        "id": "9zMIhGnD8ql_",
        "outputId": "66c1c3cf-346d-4ced-b0d1-9ae35195fc6b"
      },
      "execution_count": null,
      "outputs": [
        {
          "output_type": "stream",
          "name": "stdout",
          "text": [
            "=== Recommendations ===\n",
            "\n",
            "High-capacity states (16): CA, CO, IA, IL, IN, ... (+11 more)\n",
            "→ Recommended partners: Utility Companies, Private Equity Firms \n",
            "\n",
            "Medium-capacity states (15): AZ, HI, ID, ME, MO, ... (+10 more)\n",
            "→ Recommended partners: Government Agencies, Green Energy Funds \n",
            "\n",
            "Low-capacity states (15): AK, AR, CT, DE, FL, ... (+10 more)\n",
            "→ Recommended partners: Community Investment, Individual Investors \n",
            "\n"
          ]
        }
      ]
    },
    {
      "cell_type": "code",
      "source": [
        "# Approximate installed wind capacity (GW) for each company\n",
        "data = {\n",
        "    'Company': [\n",
        "        'NextEra Energy',\n",
        "        'Duke Energy',\n",
        "        'AES Corporation',\n",
        "        'Brookfield Renewable Partners',\n",
        "        'BlackRock REI'\n",
        "    ],\n",
        "    'Installed_Capacity_GW': [\n",
        "        20.0,   # NextEra Energy\n",
        "        6.0,    # Duke Energy\n",
        "        2.7,    # AES Corporation\n",
        "        20.1,   # Brookfield Renewable Partners\n",
        "        4.3     # BlackRock Renewable Energy Infrastructure\n",
        "    ]\n",
        "}\n",
        "\n",
        "df = pd.DataFrame(data)\n",
        "\n",
        "plt.figure(figsize=(10,5))\n",
        "bars = plt.bar(df['Company'], df['Installed_Capacity_GW'])\n",
        "plt.title('Installed Wind Capacity Comparison (GW)')\n",
        "plt.xlabel('Company')\n",
        "plt.ylabel('Installed Capacity (GW)')\n",
        "plt.xticks(rotation=45, ha='right')\n",
        "\n",
        "# Annotate each bar with its value\n",
        "for bar in bars:\n",
        "    h = bar.get_height()\n",
        "    plt.annotate(f'{h:.1f}',\n",
        "                 xy=(bar.get_x() + bar.get_width()/2, h),\n",
        "                 xytext=(0, 3),\n",
        "                 textcoords='offset points',\n",
        "                 ha='center', va='bottom')\n",
        "\n",
        "plt.tight_layout()\n",
        "plt.savefig('partner_capacity_comparison.png')\n",
        "plt.show()\n"
      ],
      "metadata": {
        "colab": {
          "base_uri": "https://localhost:8080/",
          "height": 482
        },
        "id": "kHeC607ZZJHL",
        "outputId": "49e6cc4c-bef2-4614-cfa8-b366bb056262"
      },
      "execution_count": null,
      "outputs": [
        {
          "output_type": "display_data",
          "data": {
            "text/plain": [
              "<Figure size 1000x500 with 1 Axes>"
            ],
            "image/png": "[encoded data removed]"
          },
          "metadata": {}
        }
      ]
    }
  ]
}